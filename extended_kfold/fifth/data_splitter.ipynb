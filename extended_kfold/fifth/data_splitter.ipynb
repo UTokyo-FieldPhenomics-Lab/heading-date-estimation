{
 "cells": [
  {
   "cell_type": "code",
   "execution_count": 18,
   "metadata": {},
   "outputs": [],
   "source": [
    "from sklearn.model_selection import train_test_split\n",
    "import numpy as np\n",
    "import shutil\n",
    "seed = 7"
   ]
  },
  {
   "cell_type": "code",
   "execution_count": 19,
   "metadata": {},
   "outputs": [],
   "source": [
    "flws = np.arange(1,513)\n",
    "lvs = np.arange(1,1072)\n",
    "\n",
    "flws_train,flws_val = train_test_split(flws,test_size=0.2,random_state=seed)\n",
    "lvs_train,lvs_val = train_test_split(lvs,test_size=0.2,random_state=seed)"
   ]
  },
  {
   "cell_type": "code",
   "execution_count": 20,
   "metadata": {},
   "outputs": [],
   "source": [
    "for i in flws_train:\n",
    "    src = 'flower/'\n",
    "    dest = 'train/flower/'\n",
    "    src += str(i)\n",
    "    src += '.bmp'\n",
    "    shutil.copy2(src,dest)\n"
   ]
  },
  {
   "cell_type": "code",
   "execution_count": 21,
   "metadata": {},
   "outputs": [],
   "source": [
    "for i in flws_val:\n",
    "    src = 'flower/'\n",
    "    dest = 'validation/flower/'\n",
    "    src += str(i)\n",
    "    src += '.bmp'\n",
    "    shutil.copy2(src,dest)"
   ]
  },
  {
   "cell_type": "code",
   "execution_count": 22,
   "metadata": {},
   "outputs": [],
   "source": [
    "for i in lvs_train:\n",
    "    src = 'leaf/'\n",
    "    dest = 'train/leaf/'\n",
    "    src += str(i)\n",
    "    src += '.bmp'\n",
    "    shutil.copy2(src,dest)"
   ]
  },
  {
   "cell_type": "code",
   "execution_count": 23,
   "metadata": {},
   "outputs": [],
   "source": [
    "for i in lvs_val:\n",
    "    src = 'leaf/'\n",
    "    dest = 'validation/leaf/'\n",
    "    src += str(i)\n",
    "    src += '.bmp'\n",
    "    shutil.copy2(src,dest)"
   ]
  },
  {
   "cell_type": "code",
   "execution_count": null,
   "metadata": {},
   "outputs": [],
   "source": []
  }
 ],
 "metadata": {
  "kernelspec": {
   "display_name": "Python 2",
   "language": "python",
   "name": "python2"
  },
  "language_info": {
   "codemirror_mode": {
    "name": "ipython",
    "version": 2
   },
   "file_extension": ".py",
   "mimetype": "text/x-python",
   "name": "python",
   "nbconvert_exporter": "python",
   "pygments_lexer": "ipython2",
   "version": "2.7.12"
  }
 },
 "nbformat": 4,
 "nbformat_minor": 2
}
